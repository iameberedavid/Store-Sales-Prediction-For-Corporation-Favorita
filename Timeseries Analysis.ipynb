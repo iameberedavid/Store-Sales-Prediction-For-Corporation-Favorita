version https://git-lfs.github.com/spec/v1
oid sha256:bd719f094ccd0aa095ea08c70319efe18754fa3a289c17de781a2f82b5df4b11
size 537707
